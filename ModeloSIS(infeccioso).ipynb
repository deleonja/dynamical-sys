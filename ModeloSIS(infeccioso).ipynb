{
 "metadata": {
  "language_info": {
   "codemirror_mode": {
    "name": "ipython",
    "version": 3
   },
   "file_extension": ".py",
   "mimetype": "text/x-python",
   "name": "python",
   "nbconvert_exporter": "python",
   "pygments_lexer": "ipython3",
   "version": "3.7.5-final"
  },
  "orig_nbformat": 2,
  "kernelspec": {
   "name": "Python 3.7.5 64-bit",
   "display_name": "Python 3.7.5 64-bit",
   "metadata": {
    "interpreter": {
     "hash": "31f2aee4e71d21fbe5cf8b01ff0e069b9275f58929596ceb00d14d90e3e16cd6"
    }
   }
  }
 },
 "nbformat": 4,
 "nbformat_minor": 2,
 "cells": [
  {
   "cell_type": "markdown",
   "metadata": {},
   "source": [
    "dS/dt=-bSI+gI, dI/dt=bSI-gI (uso b para beta y g para gamma)"
   ]
  },
  {
   "cell_type": "code",
   "execution_count": 2,
   "metadata": {},
   "outputs": [],
   "source": [
    "from sympy import *\n",
    "from sympy.abc import S,I,t,b,g"
   ]
  },
  {
   "cell_type": "code",
   "execution_count": 3,
   "metadata": {},
   "outputs": [
    {
     "output_type": "stream",
     "name": "stdout",
     "text": [
      "[(S, 0), (g/b, I)]\n⎡-I⋅b  -S⋅b + g⎤\n⎢              ⎥\n⎣I⋅b   S⋅b - g ⎦\n"
     ]
    }
   ],
   "source": [
    "#puntos criticos\n",
    "P=-b*S*I+g*I\n",
    "Q=b*S*I-g*I\n",
    "#establecer P(S,I)=0 y Q(S,I)=0\n",
    "Peqn=Eq(P,0)\n",
    "Qeqn=Eq(Q,0)\n",
    "print(solve((Peqn,Qeqn),S,I))\n",
    "#matriz Jacobiana\n",
    "J11=diff(P,S)\n",
    "J12=diff(P,I)\n",
    "J21=diff(Q,S)\n",
    "J22=diff(Q,I)\n",
    "J=Matrix([[J11,J12],[J21,J22]])\n",
    "pprint(J)"
   ]
  },
  {
   "cell_type": "code",
   "execution_count": 4,
   "metadata": {},
   "outputs": [
    {
     "output_type": "stream",
     "name": "stdout",
     "text": [
      "{0: 1, S⋅b - g: 1}\n",
      "⎡⎛      ⎡⎡1⎤⎤⎞  ⎛            ⎡⎡-1⎤⎤⎞⎤\n",
      "⎢⎜0, 1, ⎢⎢ ⎥⎥⎟, ⎜S⋅b - g, 1, ⎢⎢  ⎥⎥⎟⎥\n",
      "⎣⎝      ⎣⎣0⎦⎦⎠  ⎝            ⎣⎣1 ⎦⎦⎠⎦\n",
      "{0: 1, -I⋅b: 1}\n",
      "⎡⎛      ⎡⎡0⎤⎤⎞  ⎛         ⎡⎡-1⎤⎤⎞⎤\n",
      "⎢⎜0, 1, ⎢⎢ ⎥⎥⎟, ⎜-I⋅b, 1, ⎢⎢  ⎥⎥⎟⎥\n",
      "⎣⎝      ⎣⎣1⎦⎦⎠  ⎝         ⎣⎣1 ⎦⎦⎠⎦\n"
     ]
    }
   ],
   "source": [
    "#J en el punto critico\n",
    "Jc1=J.subs([(S,S),(I,0)])\n",
    "pprint(Jc1.eigenvals())\n",
    "pprint(Jc1.eigenvects())\n",
    "Jc2=J.subs([(S,g/b),(I,I)])\n",
    "pprint(Jc2.eigenvals())\n",
    "pprint(Jc2.eigenvects())"
   ]
  },
  {
   "cell_type": "markdown",
   "metadata": {},
   "source": [
    "Los puntos criticos son no hiperbolicos, por lo que no cumplen el teorema de Hartmann."
   ]
  },
  {
   "cell_type": "code",
   "execution_count": null,
   "metadata": {},
   "outputs": [],
   "source": []
  }
 ]
}